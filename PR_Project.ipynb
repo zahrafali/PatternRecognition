{
  "nbformat": 4,
  "nbformat_minor": 0,
  "metadata": {
    "colab": {
      "name": "PR-Project.ipynb",
      "provenance": [],
      "collapsed_sections": [],
      "authorship_tag": "ABX9TyP+ic7d61yc4lSqAb+CEsuJ",
      "include_colab_link": true
    },
    "kernelspec": {
      "name": "python3",
      "display_name": "Python 3"
    },
    "language_info": {
      "name": "python"
    }
  },
  "cells": [
    {
      "cell_type": "markdown",
      "metadata": {
        "id": "view-in-github",
        "colab_type": "text"
      },
      "source": [
        "<a href=\"https://colab.research.google.com/github/zahrafali/PatternRecognition/blob/main/PR_Project.ipynb\" target=\"_parent\"><img src=\"https://colab.research.google.com/assets/colab-badge.svg\" alt=\"Open In Colab\"/></a>"
      ]
    },
    {
      "cell_type": "code",
      "execution_count": 3,
      "metadata": {
        "colab": {
          "base_uri": "https://localhost:8080/",
          "height": 424
        },
        "id": "QdljYDEeTgcf",
        "outputId": "e1906f11-ea52-4bde-a85f-a29538f29c74"
      },
      "outputs": [
        {
          "output_type": "execute_result",
          "data": {
            "text/plain": [
              "      age  sex  cp  trestbps  chol  fbs  restecg  thalach  exang  oldpeak  \\\n",
              "0      52    1   0       125   212    0        1      168      0      1.0   \n",
              "1      53    1   0       140   203    1        0      155      1      3.1   \n",
              "2      70    1   0       145   174    0        1      125      1      2.6   \n",
              "3      61    1   0       148   203    0        1      161      0      0.0   \n",
              "4      62    0   0       138   294    1        1      106      0      1.9   \n",
              "...   ...  ...  ..       ...   ...  ...      ...      ...    ...      ...   \n",
              "1020   59    1   1       140   221    0        1      164      1      0.0   \n",
              "1021   60    1   0       125   258    0        0      141      1      2.8   \n",
              "1022   47    1   0       110   275    0        0      118      1      1.0   \n",
              "1023   50    0   0       110   254    0        0      159      0      0.0   \n",
              "1024   54    1   0       120   188    0        1      113      0      1.4   \n",
              "\n",
              "      slope  ca  thal  target  \n",
              "0         2   2     3       0  \n",
              "1         0   0     3       0  \n",
              "2         0   0     3       0  \n",
              "3         2   1     3       0  \n",
              "4         1   3     2       0  \n",
              "...     ...  ..   ...     ...  \n",
              "1020      2   0     2       1  \n",
              "1021      1   1     3       0  \n",
              "1022      1   1     2       0  \n",
              "1023      2   0     2       1  \n",
              "1024      1   1     3       0  \n",
              "\n",
              "[1025 rows x 14 columns]"
            ],
            "text/html": [
              "\n",
              "  <div id=\"df-95d9ebfd-5fab-4c17-b651-ea77d52adf53\">\n",
              "    <div class=\"colab-df-container\">\n",
              "      <div>\n",
              "<style scoped>\n",
              "    .dataframe tbody tr th:only-of-type {\n",
              "        vertical-align: middle;\n",
              "    }\n",
              "\n",
              "    .dataframe tbody tr th {\n",
              "        vertical-align: top;\n",
              "    }\n",
              "\n",
              "    .dataframe thead th {\n",
              "        text-align: right;\n",
              "    }\n",
              "</style>\n",
              "<table border=\"1\" class=\"dataframe\">\n",
              "  <thead>\n",
              "    <tr style=\"text-align: right;\">\n",
              "      <th></th>\n",
              "      <th>age</th>\n",
              "      <th>sex</th>\n",
              "      <th>cp</th>\n",
              "      <th>trestbps</th>\n",
              "      <th>chol</th>\n",
              "      <th>fbs</th>\n",
              "      <th>restecg</th>\n",
              "      <th>thalach</th>\n",
              "      <th>exang</th>\n",
              "      <th>oldpeak</th>\n",
              "      <th>slope</th>\n",
              "      <th>ca</th>\n",
              "      <th>thal</th>\n",
              "      <th>target</th>\n",
              "    </tr>\n",
              "  </thead>\n",
              "  <tbody>\n",
              "    <tr>\n",
              "      <th>0</th>\n",
              "      <td>52</td>\n",
              "      <td>1</td>\n",
              "      <td>0</td>\n",
              "      <td>125</td>\n",
              "      <td>212</td>\n",
              "      <td>0</td>\n",
              "      <td>1</td>\n",
              "      <td>168</td>\n",
              "      <td>0</td>\n",
              "      <td>1.0</td>\n",
              "      <td>2</td>\n",
              "      <td>2</td>\n",
              "      <td>3</td>\n",
              "      <td>0</td>\n",
              "    </tr>\n",
              "    <tr>\n",
              "      <th>1</th>\n",
              "      <td>53</td>\n",
              "      <td>1</td>\n",
              "      <td>0</td>\n",
              "      <td>140</td>\n",
              "      <td>203</td>\n",
              "      <td>1</td>\n",
              "      <td>0</td>\n",
              "      <td>155</td>\n",
              "      <td>1</td>\n",
              "      <td>3.1</td>\n",
              "      <td>0</td>\n",
              "      <td>0</td>\n",
              "      <td>3</td>\n",
              "      <td>0</td>\n",
              "    </tr>\n",
              "    <tr>\n",
              "      <th>2</th>\n",
              "      <td>70</td>\n",
              "      <td>1</td>\n",
              "      <td>0</td>\n",
              "      <td>145</td>\n",
              "      <td>174</td>\n",
              "      <td>0</td>\n",
              "      <td>1</td>\n",
              "      <td>125</td>\n",
              "      <td>1</td>\n",
              "      <td>2.6</td>\n",
              "      <td>0</td>\n",
              "      <td>0</td>\n",
              "      <td>3</td>\n",
              "      <td>0</td>\n",
              "    </tr>\n",
              "    <tr>\n",
              "      <th>3</th>\n",
              "      <td>61</td>\n",
              "      <td>1</td>\n",
              "      <td>0</td>\n",
              "      <td>148</td>\n",
              "      <td>203</td>\n",
              "      <td>0</td>\n",
              "      <td>1</td>\n",
              "      <td>161</td>\n",
              "      <td>0</td>\n",
              "      <td>0.0</td>\n",
              "      <td>2</td>\n",
              "      <td>1</td>\n",
              "      <td>3</td>\n",
              "      <td>0</td>\n",
              "    </tr>\n",
              "    <tr>\n",
              "      <th>4</th>\n",
              "      <td>62</td>\n",
              "      <td>0</td>\n",
              "      <td>0</td>\n",
              "      <td>138</td>\n",
              "      <td>294</td>\n",
              "      <td>1</td>\n",
              "      <td>1</td>\n",
              "      <td>106</td>\n",
              "      <td>0</td>\n",
              "      <td>1.9</td>\n",
              "      <td>1</td>\n",
              "      <td>3</td>\n",
              "      <td>2</td>\n",
              "      <td>0</td>\n",
              "    </tr>\n",
              "    <tr>\n",
              "      <th>...</th>\n",
              "      <td>...</td>\n",
              "      <td>...</td>\n",
              "      <td>...</td>\n",
              "      <td>...</td>\n",
              "      <td>...</td>\n",
              "      <td>...</td>\n",
              "      <td>...</td>\n",
              "      <td>...</td>\n",
              "      <td>...</td>\n",
              "      <td>...</td>\n",
              "      <td>...</td>\n",
              "      <td>...</td>\n",
              "      <td>...</td>\n",
              "      <td>...</td>\n",
              "    </tr>\n",
              "    <tr>\n",
              "      <th>1020</th>\n",
              "      <td>59</td>\n",
              "      <td>1</td>\n",
              "      <td>1</td>\n",
              "      <td>140</td>\n",
              "      <td>221</td>\n",
              "      <td>0</td>\n",
              "      <td>1</td>\n",
              "      <td>164</td>\n",
              "      <td>1</td>\n",
              "      <td>0.0</td>\n",
              "      <td>2</td>\n",
              "      <td>0</td>\n",
              "      <td>2</td>\n",
              "      <td>1</td>\n",
              "    </tr>\n",
              "    <tr>\n",
              "      <th>1021</th>\n",
              "      <td>60</td>\n",
              "      <td>1</td>\n",
              "      <td>0</td>\n",
              "      <td>125</td>\n",
              "      <td>258</td>\n",
              "      <td>0</td>\n",
              "      <td>0</td>\n",
              "      <td>141</td>\n",
              "      <td>1</td>\n",
              "      <td>2.8</td>\n",
              "      <td>1</td>\n",
              "      <td>1</td>\n",
              "      <td>3</td>\n",
              "      <td>0</td>\n",
              "    </tr>\n",
              "    <tr>\n",
              "      <th>1022</th>\n",
              "      <td>47</td>\n",
              "      <td>1</td>\n",
              "      <td>0</td>\n",
              "      <td>110</td>\n",
              "      <td>275</td>\n",
              "      <td>0</td>\n",
              "      <td>0</td>\n",
              "      <td>118</td>\n",
              "      <td>1</td>\n",
              "      <td>1.0</td>\n",
              "      <td>1</td>\n",
              "      <td>1</td>\n",
              "      <td>2</td>\n",
              "      <td>0</td>\n",
              "    </tr>\n",
              "    <tr>\n",
              "      <th>1023</th>\n",
              "      <td>50</td>\n",
              "      <td>0</td>\n",
              "      <td>0</td>\n",
              "      <td>110</td>\n",
              "      <td>254</td>\n",
              "      <td>0</td>\n",
              "      <td>0</td>\n",
              "      <td>159</td>\n",
              "      <td>0</td>\n",
              "      <td>0.0</td>\n",
              "      <td>2</td>\n",
              "      <td>0</td>\n",
              "      <td>2</td>\n",
              "      <td>1</td>\n",
              "    </tr>\n",
              "    <tr>\n",
              "      <th>1024</th>\n",
              "      <td>54</td>\n",
              "      <td>1</td>\n",
              "      <td>0</td>\n",
              "      <td>120</td>\n",
              "      <td>188</td>\n",
              "      <td>0</td>\n",
              "      <td>1</td>\n",
              "      <td>113</td>\n",
              "      <td>0</td>\n",
              "      <td>1.4</td>\n",
              "      <td>1</td>\n",
              "      <td>1</td>\n",
              "      <td>3</td>\n",
              "      <td>0</td>\n",
              "    </tr>\n",
              "  </tbody>\n",
              "</table>\n",
              "<p>1025 rows × 14 columns</p>\n",
              "</div>\n",
              "      <button class=\"colab-df-convert\" onclick=\"convertToInteractive('df-95d9ebfd-5fab-4c17-b651-ea77d52adf53')\"\n",
              "              title=\"Convert this dataframe to an interactive table.\"\n",
              "              style=\"display:none;\">\n",
              "        \n",
              "  <svg xmlns=\"http://www.w3.org/2000/svg\" height=\"24px\"viewBox=\"0 0 24 24\"\n",
              "       width=\"24px\">\n",
              "    <path d=\"M0 0h24v24H0V0z\" fill=\"none\"/>\n",
              "    <path d=\"M18.56 5.44l.94 2.06.94-2.06 2.06-.94-2.06-.94-.94-2.06-.94 2.06-2.06.94zm-11 1L8.5 8.5l.94-2.06 2.06-.94-2.06-.94L8.5 2.5l-.94 2.06-2.06.94zm10 10l.94 2.06.94-2.06 2.06-.94-2.06-.94-.94-2.06-.94 2.06-2.06.94z\"/><path d=\"M17.41 7.96l-1.37-1.37c-.4-.4-.92-.59-1.43-.59-.52 0-1.04.2-1.43.59L10.3 9.45l-7.72 7.72c-.78.78-.78 2.05 0 2.83L4 21.41c.39.39.9.59 1.41.59.51 0 1.02-.2 1.41-.59l7.78-7.78 2.81-2.81c.8-.78.8-2.07 0-2.86zM5.41 20L4 18.59l7.72-7.72 1.47 1.35L5.41 20z\"/>\n",
              "  </svg>\n",
              "      </button>\n",
              "      \n",
              "  <style>\n",
              "    .colab-df-container {\n",
              "      display:flex;\n",
              "      flex-wrap:wrap;\n",
              "      gap: 12px;\n",
              "    }\n",
              "\n",
              "    .colab-df-convert {\n",
              "      background-color: #E8F0FE;\n",
              "      border: none;\n",
              "      border-radius: 50%;\n",
              "      cursor: pointer;\n",
              "      display: none;\n",
              "      fill: #1967D2;\n",
              "      height: 32px;\n",
              "      padding: 0 0 0 0;\n",
              "      width: 32px;\n",
              "    }\n",
              "\n",
              "    .colab-df-convert:hover {\n",
              "      background-color: #E2EBFA;\n",
              "      box-shadow: 0px 1px 2px rgba(60, 64, 67, 0.3), 0px 1px 3px 1px rgba(60, 64, 67, 0.15);\n",
              "      fill: #174EA6;\n",
              "    }\n",
              "\n",
              "    [theme=dark] .colab-df-convert {\n",
              "      background-color: #3B4455;\n",
              "      fill: #D2E3FC;\n",
              "    }\n",
              "\n",
              "    [theme=dark] .colab-df-convert:hover {\n",
              "      background-color: #434B5C;\n",
              "      box-shadow: 0px 1px 3px 1px rgba(0, 0, 0, 0.15);\n",
              "      filter: drop-shadow(0px 1px 2px rgba(0, 0, 0, 0.3));\n",
              "      fill: #FFFFFF;\n",
              "    }\n",
              "  </style>\n",
              "\n",
              "      <script>\n",
              "        const buttonEl =\n",
              "          document.querySelector('#df-95d9ebfd-5fab-4c17-b651-ea77d52adf53 button.colab-df-convert');\n",
              "        buttonEl.style.display =\n",
              "          google.colab.kernel.accessAllowed ? 'block' : 'none';\n",
              "\n",
              "        async function convertToInteractive(key) {\n",
              "          const element = document.querySelector('#df-95d9ebfd-5fab-4c17-b651-ea77d52adf53');\n",
              "          const dataTable =\n",
              "            await google.colab.kernel.invokeFunction('convertToInteractive',\n",
              "                                                     [key], {});\n",
              "          if (!dataTable) return;\n",
              "\n",
              "          const docLinkHtml = 'Like what you see? Visit the ' +\n",
              "            '<a target=\"_blank\" href=https://colab.research.google.com/notebooks/data_table.ipynb>data table notebook</a>'\n",
              "            + ' to learn more about interactive tables.';\n",
              "          element.innerHTML = '';\n",
              "          dataTable['output_type'] = 'display_data';\n",
              "          await google.colab.output.renderOutput(dataTable, element);\n",
              "          const docLink = document.createElement('div');\n",
              "          docLink.innerHTML = docLinkHtml;\n",
              "          element.appendChild(docLink);\n",
              "        }\n",
              "      </script>\n",
              "    </div>\n",
              "  </div>\n",
              "  "
            ]
          },
          "metadata": {},
          "execution_count": 3
        }
      ],
      "source": [
        "import pandas as pd\n",
        "import numpy as np\n",
        "from sklearn import preprocessing\n",
        "\n",
        "from simDiagonalization import simultaneousDiagonalization \n",
        "from mleMeanCov import mleMean, mleCov\n",
        "from plotting import plot_2d_graph\n",
        "df1 = pd.read_csv('heart.csv')\n",
        "df1"
      ]
    },
    {
      "cell_type": "code",
      "source": [
        "from sklearn.model_selection import train_test_split\n",
        "training_data, testing_data = train_test_split(df1, test_size=0.5, random_state=25)\n",
        "\n",
        "x1 = training_data[training_data['target'] == 0]\n",
        "cp_1 = x1['cp']\n",
        "thalach_1 = x1['thalach']#/100\n",
        "slope_1 = x1['slope']\n",
        "restecg_1 = x1['restecg']\n",
        "fbs_1 = x1['fbs']\n",
        "chol_1 = x1['chol']#/100\n",
        "x1_matrix_raw = [list(cp_1), list(thalach_1), list(slope_1), list(restecg_1), list(fbs_1), list(chol_1)]\n",
        "\n",
        "x2 = training_data[training_data['target'] > 0]\n",
        "cp_2 = x2['cp']\n",
        "thalach_2 = x2['thalach']\n",
        "slope_2 = x2['slope']\n",
        "restecg_2 = x2['restecg']\n",
        "fbs_2 = x2['fbs']\n",
        "chol_2 = x2['chol']\n",
        "x2_matrix_raw = [list(cp_2), list(thalach_2), list(slope_2), list(restecg_2), list(fbs_2), list(chol_2)]\n",
        "thalach_1"
      ],
      "metadata": {
        "colab": {
          "base_uri": "https://localhost:8080/"
        },
        "id": "IaMYX5JTzmN4",
        "outputId": "46fdb8fc-c173-4729-9a34-2764694075f0"
      },
      "execution_count": 4,
      "outputs": [
        {
          "output_type": "execute_result",
          "data": {
            "text/plain": [
              "72     144\n",
              "797    114\n",
              "175    133\n",
              "589    116\n",
              "393    145\n",
              "      ... \n",
              "940    123\n",
              "151    195\n",
              "886    140\n",
              "474    168\n",
              "318    162\n",
              "Name: thalach, Length: 244, dtype: int64"
            ]
          },
          "metadata": {},
          "execution_count": 4
        }
      ]
    },
    {
      "cell_type": "code",
      "source": [
        "# Normalizing range 0 to 1\n",
        "from sklearn.preprocessing import StandardScaler\n",
        "from sklearn import preprocessing\n",
        "\n",
        "# min_max_scaler = preprocessing.MinMaxScaler()\n",
        "# x1_matrix = min_max_scaler.fit_transform(x1_matrix_raw)\n",
        "# x2_matrix = min_max_scaler.fit_transform(x2_matrix_raw)\n",
        "x1_matrix = x1_matrix_raw\n",
        "x2_matrix = x2_matrix_raw"
      ],
      "metadata": {
        "id": "6Z_KC6Kxz_er"
      },
      "execution_count": 5,
      "outputs": []
    },
    {
      "cell_type": "code",
      "source": [
        "#@title CALCULATING ML MEAN AND COVARIANCE\n",
        "x1_no_of_points = len(x1_matrix[0])\n",
        "# get estimated mean and covariance using ML method\n",
        "x1_ml_estimated_mean = mleMean(x1_matrix, x1_no_of_points)\n",
        "# x1_ml_estimated_cov = estimate_cov_ml(x1_training_points, x1_ml_estimated_mean, no_of_points)\n",
        "print('\\nEstimated Mean1 using ML before Diagonalization:')\n",
        "print(x1_ml_estimated_mean)\n",
        "x1_ml_estimated_cov = mleCov(x1_matrix, x1_ml_estimated_mean, x1_no_of_points)\n",
        "print('\\nEstimated covariance1 using ML before Diagonalization:')\n",
        "print(x1_ml_estimated_cov)\n",
        "x2_no_of_points = len(x2_matrix[0])\n",
        "x2_ml_estimated_mean = mleMean(x2_matrix, x2_no_of_points)\n",
        "x2_ml_estimated_cov = mleCov(x2_matrix, x2_ml_estimated_mean, x2_no_of_points)\n",
        "print('\\nEstimated Mean2 using ML before Diagonalization:')\n",
        "print(x2_ml_estimated_mean)\n",
        "print('\\nEstimated covariance2 using ML before Diagonalization:')\n",
        "print(x2_ml_estimated_cov)"
      ],
      "metadata": {
        "colab": {
          "base_uri": "https://localhost:8080/"
        },
        "id": "U62mpBr11EsA",
        "outputId": "e6b3f7dd-5611-4128-e1ab-0c3858d73934"
      },
      "execution_count": 7,
      "outputs": [
        {
          "output_type": "stream",
          "name": "stdout",
          "text": [
            "\n",
            "Estimated Mean1 using ML before Diagonalization:\n",
            "[[4.87704918e-01]\n",
            " [1.39553279e+02]\n",
            " [1.13114754e+00]\n",
            " [4.71311475e-01]\n",
            " [1.47540984e-01]\n",
            " [2.50467213e+02]]\n",
            "\n",
            "Estimated covariance1 using ML before Diagonalization:\n",
            "[[ 8.64602929e-01  4.64819605e+00  3.84977157e-02  3.74563289e-03\n",
            "  -6.38269282e-03  6.61482128e-01]\n",
            " [ 4.64819605e+00  5.39870112e+02  5.61596345e+00 -5.88635447e-01\n",
            "  -1.60575114e-02  5.15119927e+01]\n",
            " [ 3.84977157e-02  5.61596345e+00  3.18865896e-01 -3.35931201e-04\n",
            "  -3.98414405e-02 -9.01437786e-01]\n",
            " [ 3.74563289e-03 -5.88635447e-01 -3.35931201e-04  2.98357296e-01\n",
            "  -1.21607095e-02 -4.62184225e+00]\n",
            " [-6.38269282e-03 -1.60575114e-02 -3.98414405e-02 -1.21607095e-02\n",
            "   1.25772642e-01  5.70411180e-01]\n",
            " [ 6.61482128e-01  5.15119927e+01 -9.01437786e-01 -4.62184225e+00\n",
            "   5.70411180e-01  2.39187188e+03]]\n",
            "\n",
            "Estimated Mean2 using ML before Diagonalization:\n",
            "[[1.38432836e+00]\n",
            " [1.57850746e+02]\n",
            " [1.56716418e+00]\n",
            " [6.11940299e-01]\n",
            " [1.41791045e-01]\n",
            " [2.38981343e+02]]\n",
            "\n",
            "Estimated covariance2 using ML before Diagonalization:\n",
            "[[ 9.00799176e-01  1.00885498e+00 -6.87235464e-02 -4.48875028e-02\n",
            "   7.61026955e-02 -1.77268044e+00]\n",
            " [ 1.00885498e+00  3.45529962e+02  1.97644241e+00  4.38349298e-01\n",
            "   1.59222544e-01  5.81502005e+01]\n",
            " [-6.87235464e-02  1.97644241e+00  3.49966585e-01  3.72577411e-02\n",
            "  -9.52327913e-03  2.49192470e+00]\n",
            " [-4.48875028e-02  4.38349298e-01  3.72577411e-02  2.52394743e-01\n",
            "  -1.58721319e-02 -4.51097126e+00]\n",
            " [ 7.61026955e-02  1.59222544e-01 -9.52327913e-03 -1.58721319e-02\n",
            "   1.21686344e-01  2.50334150e-02]\n",
            " [-1.77268044e+00  5.81502005e+01  2.49192470e+00 -4.51097126e+00\n",
            "   2.50334150e-02  2.59305562e+03]]\n"
          ]
        }
      ]
    },
    {
      "cell_type": "code",
      "source": [
        "#@title Plotting\n",
        "########################################################################################\n",
        "# PLOTTING #\n",
        "import matplotlib.pyplot as plt\n",
        "import numpy as np\n",
        "import math\n",
        "from prettytable import PrettyTable\n",
        "\n",
        "def plot_2d_graph(w1_matrix, w2_matrix, x1, x2, x1_label, x2_label, title):\n",
        "    plt.plot(w1_matrix[x1 - 1], w1_matrix[x2 - 1], 'r.', label=\"Class 1\")\n",
        "    plt.plot(w2_matrix[x1 - 1], w2_matrix[x2 - 1], 'b.', label=\"Class 2\")\n",
        "    # plt.plot(w1_matrix[1], w1_matrix[5], 'r.', label=\"Class 1\")\n",
        "    # plt.plot(w2_matrix[1], w2_matrix[5], 'b.', label=\"Class 2\")\n",
        "    plt.xlabel(x1_label)\n",
        "    plt.ylabel(x2_label)\n",
        "    # max_w_1 = max(w1_matrix[x1 - 1])\n",
        "    # min_w_1 = min(w1_matrix[x1 - 1])\n",
        "    # max_w_2 = max(w2_matrix[x2 - 1])\n",
        "    # min_w_2 = min(w2_matrix[x2 - 1])\n",
        "    max_w = max(max(max(w1_matrix[x1-1]), max(w2_matrix[x2-1])),\n",
        "                max(max(w1_matrix[x1-1]), max(w2_matrix[x2-1])))\n",
        "    min_w = min(min(min(w1_matrix[x1-1]), min(w2_matrix[x2-1])),\n",
        "                min(min(w1_matrix[x1-1]), min(w2_matrix[x2-1])))\n",
        "    plt.axis([min_w, max_w, min_w, max_w])\n",
        "    # plt.axis([-1, 1, -1, 1])\n",
        "    plt.title(title)\n",
        "    plt.legend(loc=1)"
      ],
      "metadata": {
        "id": "5UIiQWZi2knz"
      },
      "execution_count": 14,
      "outputs": []
    },
    {
      "cell_type": "code",
      "source": [
        "# Gaussian\n",
        "# w_x1 = eigenvalues, v_x1 = eigenvectors\n",
        "w_x1, v_x1 = np.linalg.eig(x1_ml_estimated_cov)\n",
        "lambda_x1 = np.diag(w_x1)\n",
        "\n",
        "# w_x2 = eigenvalues, v_x2 = eigenvectors\n",
        "w_x2, v_x2 = np.linalg.eig(x2_ml_estimated_cov)\n",
        "lambda_x2 = np.diag(w_x2)\n",
        "\n",
        "# matrices of 200 points for the two classes X1 and X2\n",
        "\n",
        "plot_2d_graph(x1_matrix, x2_matrix, 2, 6, 'x1', 'x2', 'x1-x2')\n",
        "# len(x2_matrix1[2])"
      ],
      "metadata": {
        "colab": {
          "base_uri": "https://localhost:8080/",
          "height": 295
        },
        "id": "3qPbZxpk00vQ",
        "outputId": "98b057db-4a05-4353-9675-13aabb36bfb2"
      },
      "execution_count": 8,
      "outputs": [
        {
          "output_type": "display_data",
          "data": {
            "text/plain": [
              "<Figure size 432x288 with 1 Axes>"
            ],
            "image/png": "[encoded data removed]"
          },
          "metadata": {
            "needs_background": "light"
          }
        }
      ]
    },
    {
      "cell_type": "code",
      "source": [
        ""
      ],
      "metadata": {
        "id": "ltmtzXgkTwF8"
      },
      "execution_count": null,
      "outputs": []
    },
    {
      "cell_type": "code",
      "source": [
        "v1_matrix, v2_matrix, sigma_v1, sigma_v2, m_v1, m_v2 = simultaneousDiagonalization(x1_matrix, x2_matrix, x1_ml_estimated_cov, x2_ml_estimated_cov, x1_ml_estimated_mean, x2_ml_estimated_mean)\n",
        "# v1_matrix1 = generatePointMatrix(v1_matrix, v_x1, lambda_x1, x1_ml_estimated_mean, x1_no_of_points)\n",
        "# v2_matrix1 = generatePointMatrix(v2_matrix,v_x2, lambda_x2, x2_ml_estimated_mean, x2_no_of_points)\n",
        "\n",
        "# v1_matrix = v1_matrix1\n",
        "# v2_matrix = v2_matrix1\n",
        "plot_2d_graph(v1_matrix, v2_matrix, 2, 6, 'x1', 'x2', 'x1-x2')"
      ],
      "metadata": {
        "colab": {
          "base_uri": "https://localhost:8080/",
          "height": 295
        },
        "id": "pv1KJ4HtT3t4",
        "outputId": "95794f72-ba72-4fe3-93c7-fffd1cd82d95"
      },
      "execution_count": 10,
      "outputs": [
        {
          "output_type": "display_data",
          "data": {
            "text/plain": [
              "<Figure size 432x288 with 1 Axes>"
            ],
            "image/png": "[encoded data removed]"
          },
          "metadata": {
            "needs_background": "light"
          }
        }
      ]
    },
    {
      "cell_type": "code",
      "source": [
        "#@title CALCULATING ML MEAN AND COVARIANCE\n",
        "x1_no_of_points = len(x1_matrix[0])\n",
        "# get estimated mean and covariance using ML method\n",
        "v1_ml_estimated_mean = mleMean(v1_matrix, x1_no_of_points)\n",
        "# x1_ml_estimated_cov = estimate_cov_ml(x1_training_points, x1_ml_estimated_mean, no_of_points)\n",
        "print('\\nEstimated Mean1 using ML before Diagonalization:')\n",
        "print(v1_ml_estimated_mean)\n",
        "v1_ml_estimated_cov = mleCov(v1_matrix, v1_ml_estimated_mean, x1_no_of_points)\n",
        "print('\\nEstimated covariance1 using ML before Diagonalization:')\n",
        "print(v1_ml_estimated_cov)\n",
        "x2_no_of_points = len(x2_matrix[0])\n",
        "v2_ml_estimated_mean = mleMean(v2_matrix, x2_no_of_points)\n",
        "v2_ml_estimated_cov = mleCov(v2_matrix, v2_ml_estimated_mean, x2_no_of_points)\n",
        "print('\\nEstimated Mean2 using ML before Diagonalization:')\n",
        "print(v2_ml_estimated_mean)\n",
        "print('\\nEstimated covariance2 using ML before Diagonalization:')\n",
        "print(v2_ml_estimated_cov)"
      ],
      "metadata": {
        "colab": {
          "base_uri": "https://localhost:8080/"
        },
        "id": "EPWPGxAgahO8",
        "outputId": "ed0288a2-4306-4f9f-b449-0ed495ab8d08"
      },
      "execution_count": 11,
      "outputs": [
        {
          "output_type": "stream",
          "name": "stdout",
          "text": [
            "\n",
            "Estimated Mean1 using ML before Diagonalization:\n",
            "[[0.85196124]\n",
            " [2.71804394]\n",
            " [4.19046835]\n",
            " [3.87657615]\n",
            " [4.85621484]\n",
            " [0.56669167]]\n",
            "\n",
            "Estimated covariance1 using ML before Diagonalization:\n",
            "[[ 1.00000000e+00  5.72100738e-15 -2.07772184e-14  4.94407361e-15\n",
            "   1.42697070e-14 -4.57467491e-14]\n",
            " [ 5.72100738e-15  1.00000000e+00  2.58527941e-14  3.49676029e-14\n",
            "  -2.07268412e-14 -7.15075160e-14]\n",
            " [-2.07772184e-14  2.58527941e-14  1.00000000e+00 -1.65496926e-14\n",
            "   9.40608360e-15  3.11631139e-14]\n",
            " [ 4.94407361e-15  3.49676029e-14 -1.65496926e-14  1.00000000e+00\n",
            "   2.45566407e-14 -3.38541570e-15]\n",
            " [ 1.42697070e-14 -2.07268412e-14  9.40608360e-15  2.45566407e-14\n",
            "   1.00000000e+00  2.26942510e-14]\n",
            " [-4.57467491e-14 -7.15075160e-14  3.11631139e-14 -3.38541570e-15\n",
            "   2.26942510e-14  1.00000000e+00]]\n",
            "\n",
            "Estimated Mean2 using ML before Diagonalization:\n",
            "[[1.11828899]\n",
            " [2.16489706]\n",
            " [4.00077125]\n",
            " [4.84299564]\n",
            " [5.19825486]\n",
            " [0.12060025]]\n",
            "\n",
            "Estimated covariance2 using ML before Diagonalization:\n",
            "[[ 1.54381365e+00  5.56768562e-16 -5.23627576e-16  1.62390830e-16\n",
            "  -2.94954774e-16 -3.38038055e-16]\n",
            " [ 5.56768562e-16  1.35615866e+00  8.74922025e-16 -6.99274801e-16\n",
            "   1.30575484e-15  3.79464288e-16]\n",
            " [-5.23627576e-16  8.74922025e-16  1.03601184e+00  1.72333126e-16\n",
            "  -2.41514934e-16  1.22621647e-16]\n",
            " [ 1.62390830e-16 -6.99274801e-16  1.72333126e-16  5.45155267e-01\n",
            "  -3.38038055e-16 -6.36306928e-16]\n",
            " [-2.94954774e-16  1.30575484e-15 -2.41514934e-16 -3.38038055e-16\n",
            "   8.51032381e-01 -1.61479453e-15]\n",
            " [-3.38038055e-16  3.79464288e-16  1.22621647e-16 -6.36306928e-16\n",
            "  -1.61479453e-15  7.54010064e-01]]\n"
          ]
        }
      ]
    },
    {
      "cell_type": "code",
      "source": [
        "#@title BAYES DISCRIMINANT FUNCTIONS CALCULATION AND PLOTTING\n",
        "def bayesDiscriminant(m1, m2, cov1, cov2, x1_points, x2_points, p1, p2, d1, d2, method):\n",
        "  a = ((np.linalg.inv(cov2) - np.linalg.inv(cov1)) / 2)\n",
        "  b = np.array(m1.transpose() @ np.linalg.inv(cov1) - m2.transpose() @ np.linalg.inv(cov2))\n",
        "  c = (np.math.log(p1 / p2) + np.log(np.linalg.det(cov2) / np.linalg.det(cov1)))\n",
        "  # c= (np.log(np.linalg.det(cov2) / np.linalg.det(cov1)))/2 + np.math.log(p1 / p2) + ( ( m2.transpose() @ np.linalg.inv(cov2) @ m1)-(m1.transpose() @ np.linalg.inv(cov1) @ m1))\n",
        "  equation_points = []\n",
        "  roots_1 = []\n",
        "  roots_2 = []\n",
        "\n",
        "  min_w = min(min(min(x1_points[d1 - 1]), min(x2_points[d1 - 1])),\n",
        "              min(min(x1_points[d2 - 1]), min(x2_points[d2 - 1])))\n",
        "  max_w = max(max(max(x1_points[d1 - 1]), max(x2_points[d1 - 1])),\n",
        "              max(max(x1_points[d2 - 1]), max(x2_points[d2 - 1])))\n",
        "\n",
        "  for x1 in np.arange(min_w - 1, max_w + 1, 1):\n",
        "      equation_points.append(x1)\n",
        "      x2_square_coefficient = a[d2 - 1][d2 - 1]\n",
        "      x2_coefficient = (a[d1 - 1][d2 - 1] * x1) + (a[d2 - 1][d1 - 1] * x1) + b[0][d2 - 1]\n",
        "      constant = a[d1 - 1][d1 - 1] * np.math.pow(x1, 2) + b[0][d1 - 1] * x1 + c\n",
        "\n",
        "      poly_coefficients = [x2_square_coefficient, x2_coefficient, constant]\n",
        "      roots = np.roots(poly_coefficients)\n",
        "      roots_1.append(roots[0])\n",
        "      roots_2.append(roots[1])\n",
        "\n",
        "  # plot_2d_graph_with_line(x1_points, x2_points, d1, d2, str(d1), str(d2), method, equation_points_x2x3, roots_1_x2x3, roots_2_x2x3)\n",
        "  plt.plot(x1_points[d1 - 1], x1_points[d2 - 1], 'r.', label=\"Class 1\")\n",
        "  plt.plot(x2_points[d1 - 1], x2_points[d2 - 1], 'b.', label=\"Class 2\")\n",
        "  plt.plot(equation_points, roots_2, 'g--', label=\"Dis.Fnc.\")\n",
        "  plt.plot(equation_points, roots_1, 'y--', label=\"Dis.Fnc.\")\n",
        "  plt.xlabel('x' + str(d1))\n",
        "  plt.ylabel('x' + str(d2))\n",
        "\n",
        "  plt.axis([min_w, max_w, min_w, max_w])\n",
        "  plt.title('Dis. Fun. for ' + method + ' for x' + str(d1) + '-x' + str(d2))\n",
        "  plt.legend(loc=2)\n",
        "  plt.show()"
      ],
      "metadata": {
        "id": "AipcOy4GXPLd"
      },
      "execution_count": 12,
      "outputs": []
    },
    {
      "cell_type": "code",
      "source": [
        "bayesDiscriminant(x1_ml_estimated_mean, x2_ml_estimated_mean, x1_ml_estimated_cov,\n",
        "                                    x2_ml_estimated_cov, x1_matrix, x2_matrix, (len(x1_matrix[0])/ (len(x1_matrix[0]) + len(x2_matrix[0])) ), (len(x2_matrix[0])/ (len(x1_matrix[0]) + len(x2_matrix[0])) ), 2, 6, 'ML')\n",
        "bayesDiscriminant(v1_ml_estimated_mean, v2_ml_estimated_mean, v1_ml_estimated_cov,\n",
        "                                    v2_ml_estimated_cov, v1_matrix, np.array(v2_matrix), (len(x1_matrix[0])/ (len(x1_matrix[0]) + len(x2_matrix[0])) ), (len(x2_matrix[0])/ (len(x1_matrix[0]) + len(x2_matrix[0])) ), 2, 6, 'ML:')"
      ],
      "metadata": {
        "colab": {
          "base_uri": "https://localhost:8080/",
          "height": 662
        },
        "id": "oWb_h9txXWXs",
        "outputId": "1f9849e0-13e8-441c-ab69-ed950d57894a"
      },
      "execution_count": 16,
      "outputs": [
        {
          "output_type": "stream",
          "name": "stderr",
          "text": [
            "/usr/local/lib/python3.7/dist-packages/matplotlib/cbook/__init__.py:1317: ComplexWarning: Casting complex values to real discards the imaginary part\n",
            "  return np.asarray(x, float)\n"
          ]
        },
        {
          "output_type": "display_data",
          "data": {
            "text/plain": [
              "<Figure size 432x288 with 1 Axes>"
            ],
            "image/png": "[encoded data removed]"
          },
          "metadata": {
            "needs_background": "light"
          }
        },
        {
          "output_type": "stream",
          "name": "stderr",
          "text": [
            "/usr/local/lib/python3.7/dist-packages/matplotlib/cbook/__init__.py:1317: ComplexWarning: Casting complex values to real discards the imaginary part\n",
            "  return np.asarray(x, float)\n"
          ]
        },
        {
          "output_type": "display_data",
          "data": {
            "text/plain": [
              "<Figure size 432x288 with 1 Axes>"
            ],
            "image/png": "[encoded data removed]"
          },
          "metadata": {
            "needs_background": "light"
          }
        }
      ]
    },
    {
      "cell_type": "code",
      "source": [
        "(len(x1_matrix[0])/ (len(x1_matrix[0]) + len(x2_matrix[0])) )"
      ],
      "metadata": {
        "colab": {
          "base_uri": "https://localhost:8080/"
        },
        "id": "NwJTgq-ZY-ew",
        "outputId": "a23bc2fc-8773-4940-a008-e6d17f894fe9"
      },
      "execution_count": null,
      "outputs": [
        {
          "output_type": "execute_result",
          "data": {
            "text/plain": [
              "0.4765625"
            ]
          },
          "metadata": {},
          "execution_count": 423
        }
      ]
    }
  ]
}